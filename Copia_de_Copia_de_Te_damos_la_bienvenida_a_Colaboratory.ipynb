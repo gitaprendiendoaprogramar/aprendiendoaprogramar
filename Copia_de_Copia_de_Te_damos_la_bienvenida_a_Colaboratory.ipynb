{
  "nbformat": 4,
  "nbformat_minor": 0,
  "metadata": {
    "colab": {
      "name": "Copia de Copia de Te damos la bienvenida a Colaboratory",
      "provenance": [],
      "collapsed_sections": [],
      "toc_visible": true,
      "include_colab_link": true
    },
    "kernelspec": {
      "display_name": "Python 3",
      "name": "python3"
    }
  },
  "cells": [
    {
      "cell_type": "markdown",
      "metadata": {
        "id": "view-in-github",
        "colab_type": "text"
      },
      "source": [
        "<a href=\"https://colab.research.google.com/github/gitaprendiendoaprogramar/aprendiendoaprogramar/blob/master/Copia_de_Copia_de_Te_damos_la_bienvenida_a_Colaboratory.ipynb\" target=\"_parent\"><img src=\"https://colab.research.google.com/assets/colab-badge.svg\" alt=\"Open In Colab\"/></a>"
      ]
    },
    {
      "cell_type": "markdown",
      "metadata": {
        "id": "ipr9tFw9Dld6",
        "colab_type": "text"
      },
      "source": [
        "# Tareas de fundamentos de programación."
      ]
    },
    {
      "cell_type": "markdown",
      "metadata": {
        "id": "PO7CqVSyBvpv",
        "colab_type": "text"
      },
      "source": [
        "# Jugada del humano\n",
        "\n",
        "ingresa 1 si quiere jugar piedra.\n",
        "\n",
        "\n",
        "ingresa 2 si quiere jugar tijera.\n",
        "\n",
        "\n",
        "ingresa 3 si quiere jugar papel."
      ]
    },
    {
      "cell_type": "code",
      "metadata": {
        "id": "3A94jB0qUHQ8",
        "colab_type": "code",
        "colab": {}
      },
      "source": [
        "## función jugada humano\n",
        "\n",
        "def jugada_humano(a):\n",
        "  jugada = \"piedra\"\n",
        "  if a == 2:\n",
        "    jugada = \"tijera\"\n",
        "  else:\n",
        "    if a == 3:\n",
        "      jugada = \"papel\"\n",
        "  return jugada    \n",
        "\n",
        "nivel = int(input(\"ingrese su nivel entre 0 y 100: \"))\n",
        "a = int(input(\"ingresa su jugada: \"))\n",
        "m = jugada_humano(a)\n",
        "print(\"el humano selecciono\", m)\n"
      ],
      "execution_count": null,
      "outputs": []
    },
    {
      "cell_type": "markdown",
      "metadata": {
        "id": "nQdlgJ-fCRMN",
        "colab_type": "text"
      },
      "source": [
        "# Jugada de la maquina.\n",
        "\n",
        "\n",
        "\n"
      ]
    },
    {
      "cell_type": "code",
      "metadata": {
        "id": "J_l5e997M6mi",
        "colab_type": "code",
        "colab": {}
      },
      "source": [
        "## funcion jugada maquina\n",
        "def jugada_maquina(nivel):\n",
        "  maquina = \"piedra\"\n",
        "  if nivel %3 == 0:\n",
        "    maquina =  \"tijera\"\n",
        "  else:\n",
        "    if nivel%2 == 0:\n",
        "      maquina = \"papel\"\n",
        "  return maquina  \n",
        "g = jugada_maquina(nivel)    \n",
        "print(\"La maquina seleciono\", g)"
      ],
      "execution_count": null,
      "outputs": []
    },
    {
      "cell_type": "markdown",
      "metadata": {
        "id": "XblwSZbKCczS",
        "colab_type": "text"
      },
      "source": [
        "# Analisis del ganador.\n"
      ]
    },
    {
      "cell_type": "code",
      "metadata": {
        "id": "FgCxvRQwMrpf",
        "colab_type": "code",
        "colab": {}
      },
      "source": [
        "# funcion del analisis\n",
        "def analisis(m,g):\n",
        "  resul = \"El humano ha ganado, punto para el humano\"\n",
        "  if m == g:\n",
        "    resul = \"No hay punto\"\n",
        "    print(resul)\n",
        "  elif ((m == \"piedra\") and (g == \"papel\")) or ((m == \"papel\") and (g == \"tijera\")) or ((m == \"tijera\") and (g == \"piedra\")):\n",
        "    resul = \"La maquina ha ganado, punto para la maquina\"\n",
        "    print(resul)\n",
        "  return resul\n",
        "\n",
        "a = analisis(m,g)\n",
        "print(a)\n"
      ],
      "execution_count": null,
      "outputs": []
    },
    {
      "cell_type": "markdown",
      "metadata": {
        "id": "395slBxkCnPT",
        "colab_type": "text"
      },
      "source": [
        "# juego total."
      ]
    },
    {
      "cell_type": "code",
      "metadata": {
        "id": "JCzmlF3bMAjz",
        "colab_type": "code",
        "colab": {}
      },
      "source": [
        "## piedra papel o tijera\n",
        "n = 0\n",
        "s = 0\n",
        "while (n or s) < 10:\n",
        "  nivel = int(input(\"Ingrese su nivel entre 0 y 100: \"))\n",
        "  a = int(input(\"ingresa su jugada: \"))\n",
        "  m = jugada_humano(a)\n",
        "  print(\"el humano selecciono\", m)\n",
        "  g = jugada_maquina(nivel)\n",
        "  print(\"La maquina seleciono\", g)\n",
        "  a = analisis(m,g)\n",
        "  print(a)\n",
        "  if a == \"El humano ha ganado, punto para el humano\":\n",
        "    n = n + 1\n",
        "    print(\"El humano lleva:\",n, \"puntos\")\n",
        "  elif a == \"La maquina ha ganado, punto para la maquina\":\n",
        "    s = s + 1\n",
        "    print(\"La maquina lleva:\", s, \"puntos\")\n",
        "\n",
        "if n == 10:\n",
        "  print(\"El humano ha ganado el juego\")\n",
        "else:\n",
        "  if s == 10:\n",
        "    print(\"La maquina ha ganado el juego\")   \n",
        "\n"
      ],
      "execution_count": null,
      "outputs": []
    },
    {
      "cell_type": "markdown",
      "metadata": {
        "id": "dl3V7zvyDHM9",
        "colab_type": "text"
      },
      "source": [
        "# Adivinar edad"
      ]
    },
    {
      "cell_type": "code",
      "metadata": {
        "id": "TNXnwUyH0c-s",
        "colab_type": "code",
        "colab": {}
      },
      "source": [
        "## adivinar edad \n",
        "\n",
        "min = 0\n",
        "max = 400\n",
        "\n",
        "while min != max:\n",
        "  edad = (min + max)/2\n",
        "  edad = int(edad)\n",
        "  print(edad)\n",
        "  n = input(\"¿Su edad es mayor que?:\"+str(edad))\n",
        "  if n == \"y\":\n",
        "    min = edad +1\n",
        "  else:\n",
        "    max = edad\n",
        "\n",
        "print(\"Su edad es: \", min)"
      ],
      "execution_count": null,
      "outputs": []
    }
  ]
}